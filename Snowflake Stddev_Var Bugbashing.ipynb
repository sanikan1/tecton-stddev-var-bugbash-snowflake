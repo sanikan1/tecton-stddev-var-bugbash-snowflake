{
 "cells": [
  {
   "cell_type": "code",
   "execution_count": 1,
   "id": "546f3206",
   "metadata": {
    "scrolled": true
   },
   "outputs": [
    {
     "name": "stdout",
     "output_type": "stream",
     "text": [
      "Version: 0.4.6\n",
      "Git Commit: bf6de72abf3416be21916d94abcc671e4246d4d0\n",
      "Build Datetime: 2022-07-19T23:22:05\n"
     ]
    }
   ],
   "source": [
    "# Import Tecton and other libraries\n",
    "import logging\n",
    "import os\n",
    "import tecton\n",
    "from dotenv import load_dotenv\n",
    "import pandas as pd\n",
    "import snowflake.connector\n",
    "from datetime import datetime, timedelta\n",
    "from pprint import pprint\n",
    "\n",
    "load_dotenv()  # take environment variables from .env.\n",
    "logging.getLogger('snowflake.connector').setLevel(logging.WARNING)\n",
    "logging.getLogger('snowflake.snowpark').setLevel(logging.WARNING)\n",
    "\n",
    "connection_parameters = {\n",
    "    \"user\": INSERT_USER,\n",
    "    \"password\": INSERT_PASSWROD,\n",
    "    \"account\": \"tectonpartner\",\n",
    "    \"warehouse\": \"DEMO_WH\",\n",
    "    # Database and schema are required to create various temporary objects by tecton\n",
    "    \"database\": \"SANIKA\",\n",
    "    \"schema\": \"PUBLIC\",\n",
    "}\n",
    "conn = snowflake.connector.connect(**connection_parameters)\n",
    "tecton.snowflake_context.set_connection(conn) # Tecton will use this Snowflake connection for all interactive queries\n",
    "\n",
    "\n",
    "# Quick helper function to query snowflake from a notebook\n",
    "# Make sure to replace with the appropriate connection details for your own account\n",
    "def query_snowflake(query):\n",
    "    df = conn.cursor().execute(query).fetch_pandas_all()\n",
    "    return df\n",
    "\n",
    "tecton.version.summary()"
   ]
  },
  {
   "cell_type": "code",
   "execution_count": 22,
   "id": "c6d80512",
   "metadata": {},
   "outputs": [],
   "source": [
    "ws = tecton.get_workspace('sanika-snowflake-live')"
   ]
  },
  {
   "cell_type": "code",
   "execution_count": 23,
   "id": "6e26cdb2",
   "metadata": {},
   "outputs": [],
   "source": [
    "fv = ws.get_feature_view('user_transaction_metrics')"
   ]
  },
  {
   "cell_type": "code",
   "execution_count": 24,
   "id": "43215b46",
   "metadata": {},
   "outputs": [],
   "source": [
    "start_time = datetime.utcnow()-timedelta(days=120)\n",
    "end_time = datetime.utcnow()"
   ]
  },
  {
   "cell_type": "code",
   "execution_count": 25,
   "id": "1510cbb6",
   "metadata": {},
   "outputs": [
    {
     "name": "stderr",
     "output_type": "stream",
     "text": [
      "WARNING - 07/22/2022 01:10:53 PM - InteractiveRunApi - Run time range (2022-06-22 17:10:52.022606+00:00, 2022-07-22 17:10:52.022665+00:00) is not a multiple of the aggregation_interval: 1 day, 0:00:00. This may lead to incorrect aggregate feature values, since Tecton pre-aggregates data in smaller time windows based on the aggregation_interval size.\n"
     ]
    },
    {
     "data": {
      "text/html": [
       "<div>\n",
       "<style scoped>\n",
       "    .dataframe tbody tr th:only-of-type {\n",
       "        vertical-align: middle;\n",
       "    }\n",
       "\n",
       "    .dataframe tbody tr th {\n",
       "        vertical-align: top;\n",
       "    }\n",
       "\n",
       "    .dataframe thead th {\n",
       "        text-align: right;\n",
       "    }\n",
       "</style>\n",
       "<table border=\"1\" class=\"dataframe\">\n",
       "  <thead>\n",
       "    <tr style=\"text-align: right;\">\n",
       "      <th></th>\n",
       "      <th>USER_ID</th>\n",
       "      <th>TIMESTAMP</th>\n",
       "      <th>INT_VALUE_VAR_SAMP_1D_1D</th>\n",
       "      <th>INT_VALUE_STDDEV_SAMP_1D_1D</th>\n",
       "      <th>INT_VALUE_STDDEV_POP_1D_1D</th>\n",
       "      <th>INT_VALUE_VAR_POP_1D_1D</th>\n",
       "    </tr>\n",
       "  </thead>\n",
       "  <tbody>\n",
       "    <tr>\n",
       "      <th>0</th>\n",
       "      <td>user_a</td>\n",
       "      <td>2022-07-22</td>\n",
       "      <td>0.333333</td>\n",
       "      <td>0.57735</td>\n",
       "      <td>0.5</td>\n",
       "      <td>0.25</td>\n",
       "    </tr>\n",
       "    <tr>\n",
       "      <th>1</th>\n",
       "      <td>user_c</td>\n",
       "      <td>2022-07-22</td>\n",
       "      <td>NaN</td>\n",
       "      <td>NaN</td>\n",
       "      <td>NaN</td>\n",
       "      <td>NaN</td>\n",
       "    </tr>\n",
       "    <tr>\n",
       "      <th>2</th>\n",
       "      <td>user_d</td>\n",
       "      <td>2022-07-22</td>\n",
       "      <td>0.000000</td>\n",
       "      <td>0.00000</td>\n",
       "      <td>0.0</td>\n",
       "      <td>0.00</td>\n",
       "    </tr>\n",
       "  </tbody>\n",
       "</table>\n",
       "</div>"
      ],
      "text/plain": [
       "  USER_ID  TIMESTAMP  INT_VALUE_VAR_SAMP_1D_1D  INT_VALUE_STDDEV_SAMP_1D_1D  \\\n",
       "0  user_a 2022-07-22                  0.333333                      0.57735   \n",
       "1  user_c 2022-07-22                       NaN                          NaN   \n",
       "2  user_d 2022-07-22                  0.000000                      0.00000   \n",
       "\n",
       "   INT_VALUE_STDDEV_POP_1D_1D  INT_VALUE_VAR_POP_1D_1D  \n",
       "0                         0.5                     0.25  \n",
       "1                         NaN                      NaN  \n",
       "2                         0.0                     0.00  "
      ]
     },
     "execution_count": 25,
     "metadata": {},
     "output_type": "execute_result"
    }
   ],
   "source": [
    "fv.run(start_time=start_time, end_time=end_time).to_pandas().head()"
   ]
  },
  {
   "cell_type": "code",
   "execution_count": 26,
   "id": "e5e21b8d",
   "metadata": {},
   "outputs": [
    {
     "data": {
      "text/html": [
       "<div>\n",
       "<style scoped>\n",
       "    .dataframe tbody tr th:only-of-type {\n",
       "        vertical-align: middle;\n",
       "    }\n",
       "\n",
       "    .dataframe tbody tr th {\n",
       "        vertical-align: top;\n",
       "    }\n",
       "\n",
       "    .dataframe thead th {\n",
       "        text-align: right;\n",
       "    }\n",
       "</style>\n",
       "<table border=\"1\" class=\"dataframe\">\n",
       "  <thead>\n",
       "    <tr style=\"text-align: right;\">\n",
       "      <th></th>\n",
       "      <th>USER_ID</th>\n",
       "      <th>TIMESTAMP</th>\n",
       "      <th>INT_VALUE_VAR_SAMP_1D_1D</th>\n",
       "      <th>INT_VALUE_STDDEV_SAMP_1D_1D</th>\n",
       "      <th>INT_VALUE_STDDEV_POP_1D_1D</th>\n",
       "      <th>INT_VALUE_VAR_POP_1D_1D</th>\n",
       "    </tr>\n",
       "  </thead>\n",
       "  <tbody>\n",
       "    <tr>\n",
       "      <th>0</th>\n",
       "      <td>user_a</td>\n",
       "      <td>2022-07-22</td>\n",
       "      <td>0.333333</td>\n",
       "      <td>0.57735</td>\n",
       "      <td>0.5</td>\n",
       "      <td>0.25</td>\n",
       "    </tr>\n",
       "    <tr>\n",
       "      <th>1</th>\n",
       "      <td>user_c</td>\n",
       "      <td>2022-07-22</td>\n",
       "      <td>NaN</td>\n",
       "      <td>NaN</td>\n",
       "      <td>NaN</td>\n",
       "      <td>NaN</td>\n",
       "    </tr>\n",
       "    <tr>\n",
       "      <th>2</th>\n",
       "      <td>user_d</td>\n",
       "      <td>2022-07-22</td>\n",
       "      <td>0.000000</td>\n",
       "      <td>0.00000</td>\n",
       "      <td>0.0</td>\n",
       "      <td>0.00</td>\n",
       "    </tr>\n",
       "  </tbody>\n",
       "</table>\n",
       "</div>"
      ],
      "text/plain": [
       "  USER_ID  TIMESTAMP  INT_VALUE_VAR_SAMP_1D_1D  INT_VALUE_STDDEV_SAMP_1D_1D  \\\n",
       "0  user_a 2022-07-22                  0.333333                      0.57735   \n",
       "1  user_c 2022-07-22                       NaN                          NaN   \n",
       "2  user_d 2022-07-22                  0.000000                      0.00000   \n",
       "\n",
       "   INT_VALUE_STDDEV_POP_1D_1D  INT_VALUE_VAR_POP_1D_1D  \n",
       "0                         0.5                     0.25  \n",
       "1                         NaN                      NaN  \n",
       "2                         0.0                     0.00  "
      ]
     },
     "execution_count": 26,
     "metadata": {},
     "output_type": "execute_result"
    }
   ],
   "source": [
    "fv.get_historical_features(start_time=start_time, end_time=end_time).to_pandas().head()"
   ]
  },
  {
   "cell_type": "code",
   "execution_count": 15,
   "id": "cc4104c5",
   "metadata": {},
   "outputs": [],
   "source": [
    "fs = ws.get_feature_service('fraud_detection_feature_service')"
   ]
  },
  {
   "cell_type": "code",
   "execution_count": 21,
   "id": "fd28c5cf",
   "metadata": {},
   "outputs": [
    {
     "name": "stdout",
     "output_type": "stream",
     "text": [
      "{'user_transaction_metrics.INT_VALUE_STDDEV_1D_1D': 0.0,\n",
      " 'user_transaction_metrics.INT_VALUE_VARIANCE_1D_1D': 0.0}\n"
     ]
    }
   ],
   "source": [
    "tecton.conf.set(\"TECTON_API_KEY\", \"<key>\")\n",
    "\n",
    "keys = {\n",
    "    'USER_ID': 'user_a',\n",
    "}\n",
    "features = fs.get_online_features(join_keys=keys).to_dict()\n",
    "pprint(features)"
   ]
  },
  {
   "cell_type": "markdown",
   "id": "8e1e7385",
   "metadata": {},
   "source": [
    "curl -X POST --silent https://dev-snowflake.tecton.ai/api/v1/feature-service/get-features\\\n",
    "     -H \"Authorization: Tecton-key $TECTON_API_KEY\" -d\\\n",
    "'{\n",
    "  \"params\": {\n",
    "    \"feature_service_name\": \"fraud_detection_feature_service\",\n",
    "    \"join_key_map\": {\n",
    "      \"USER_ID\": \"user_461615966685\",\n",
    "      \"CATEGORY\": \"grocery_net\"\n",
    "    },\n",
    "    \"workspace_name\": \"prod\"\n",
    "  }\n",
    "}' | jq"
   ]
  },
  {
   "cell_type": "code",
   "execution_count": null,
   "id": "8dbab12d",
   "metadata": {},
   "outputs": [],
   "source": []
  }
 ],
 "metadata": {
  "kernelspec": {
   "display_name": "Python 3 (ipykernel)",
   "language": "python",
   "name": "python3"
  },
  "language_info": {
   "codemirror_mode": {
    "name": "ipython",
    "version": 3
   },
   "file_extension": ".py",
   "mimetype": "text/x-python",
   "name": "python",
   "nbconvert_exporter": "python",
   "pygments_lexer": "ipython3",
   "version": "3.8.13"
  }
 },
 "nbformat": 4,
 "nbformat_minor": 5
}
